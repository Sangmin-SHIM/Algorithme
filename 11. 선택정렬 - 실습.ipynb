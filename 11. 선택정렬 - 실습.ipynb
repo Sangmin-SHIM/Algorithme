{
 "cells": [
  {
   "cell_type": "code",
   "execution_count": 19,
   "id": "06b50b16",
   "metadata": {},
   "outputs": [],
   "source": [
    "\n",
    "def selection_bubblesort(data):\n",
    "    for stand in range(len(data)-1):\n",
    "        lowest = stand\n",
    "        for index in range(stand+1, len(data)):\n",
    "            if data[lowest] > data[index]:\n",
    "                lowest = index\n",
    "        data[stand],data[lowest] = data[lowest],data[stand]\n",
    "        \n",
    "    return data"
   ]
  },
  {
   "cell_type": "code",
   "execution_count": 21,
   "id": "1e4c86b8",
   "metadata": {},
   "outputs": [
    {
     "name": "stdout",
     "output_type": "stream",
     "text": [
      "[2, 54, 86, 325, 493, 544, 613, 686, 698, 770, 826, 935, 1347, 1355, 1401, 1510, 1560, 1614, 1702, 1858, 1972, 2031, 2166, 2254, 2397, 2477, 2570, 2722, 2763, 2784, 2823, 2831, 3002, 3064, 3068, 3180, 3437, 3504, 3598, 3784, 3795, 4069, 4078, 4089, 4160, 4463, 4573, 4856, 4935, 5105, 5112, 5147, 5328, 5411, 5415, 5497, 5702, 5720, 5722, 5881, 6101, 6292, 6329, 6388, 6628, 6796, 6811, 6830, 6837, 7063, 7236, 7242, 7382, 7383, 7641, 7689, 7733, 7806, 7844, 7850, 7861, 7876, 7888, 7913, 8211, 8223, 8426, 8589, 8610, 8763, 8787, 8811, 8908, 8913, 8937, 9207, 9292, 9333, 9517, 9547]\n"
     ]
    }
   ],
   "source": [
    "import random\n",
    "\n",
    "data_list = random.sample(range(10000),100)\n",
    "\n",
    "print(selection_bubblesort(data_list))"
   ]
  },
  {
   "cell_type": "code",
   "execution_count": null,
   "id": "cd2aedc0",
   "metadata": {},
   "outputs": [],
   "source": []
  }
 ],
 "metadata": {
  "kernelspec": {
   "display_name": "Python 3 (ipykernel)",
   "language": "python",
   "name": "python3"
  },
  "language_info": {
   "codemirror_mode": {
    "name": "ipython",
    "version": 3
   },
   "file_extension": ".py",
   "mimetype": "text/x-python",
   "name": "python",
   "nbconvert_exporter": "python",
   "pygments_lexer": "ipython3",
   "version": "3.9.7"
  }
 },
 "nbformat": 4,
 "nbformat_minor": 5
}

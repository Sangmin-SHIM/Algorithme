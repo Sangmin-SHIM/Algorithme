{
 "cells": [
  {
   "cell_type": "code",
   "execution_count": 1,
   "id": "03508f09",
   "metadata": {},
   "outputs": [],
   "source": [
    "def sum_all(n):\n",
    "    total=0\n",
    "    for num in range(1,n+1):\n",
    "        total+=num    \n",
    "    return total"
   ]
  },
  {
   "cell_type": "code",
   "execution_count": 11,
   "id": "d12d7f7e",
   "metadata": {},
   "outputs": [
    {
     "data": {
      "text/plain": [
       "5000000050000000"
      ]
     },
     "execution_count": 11,
     "metadata": {},
     "output_type": "execute_result"
    }
   ],
   "source": [
    "sum_all(100000000)"
   ]
  },
  {
   "cell_type": "code",
   "execution_count": 7,
   "id": "7d7b595d",
   "metadata": {},
   "outputs": [],
   "source": [
    "def sum_all2(n):\n",
    "    return int(n*(n+1)/2)"
   ]
  },
  {
   "cell_type": "code",
   "execution_count": 12,
   "id": "c5128c75",
   "metadata": {},
   "outputs": [
    {
     "data": {
      "text/plain": [
       "5000000050000000"
      ]
     },
     "execution_count": 12,
     "metadata": {},
     "output_type": "execute_result"
    }
   ],
   "source": [
    "sum_all2(100000000)"
   ]
  }
 ],
 "metadata": {
  "kernelspec": {
   "display_name": "Python 3 (ipykernel)",
   "language": "python",
   "name": "python3"
  },
  "language_info": {
   "codemirror_mode": {
    "name": "ipython",
    "version": 3
   },
   "file_extension": ".py",
   "mimetype": "text/x-python",
   "name": "python",
   "nbconvert_exporter": "python",
   "pygments_lexer": "ipython3",
   "version": "3.9.7"
  }
 },
 "nbformat": 4,
 "nbformat_minor": 5
}

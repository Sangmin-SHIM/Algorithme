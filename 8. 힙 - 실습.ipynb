{
 "cells": [
  {
   "cell_type": "code",
   "execution_count": 18,
   "id": "72d3f0d7",
   "metadata": {},
   "outputs": [],
   "source": [
    "class Heap:\n",
    "    def __init__(self,data):\n",
    "        self.heap_array = list()\n",
    "        self.heap_array.append(None)\n",
    "        self.heap_array.append(data)\n",
    "    \n",
    "    def move_up(self,inserted_idx):\n",
    "        if inserted_idx <=1:\n",
    "            return False\n",
    "        parent_idx = inserted_idx // 2\n",
    "        if (self.heap_array[inserted_idx] > self.heap_array[parent_idx]):\n",
    "            return True\n",
    "        else:\n",
    "            return False\n",
    "    \n",
    "    def insert(self,data):\n",
    "        if len(self.heap_array) == 0:\n",
    "            self.heap_array.append(None)\n",
    "            self.heap_array.append(data)\n",
    "            return True\n",
    "        \n",
    "        self.heap_array.append(data)\n",
    "        \n",
    "        inserted_idx = len(self.heap_array)-1\n",
    "        \n",
    "        while self.move_up(inserted_idx):\n",
    "            parent_idx = inserted_idx // 2\n",
    "            self.heap_array[inserted_idx], self.heap_array[parent_idx] = self.heap_array[parent_idx], self.heap_array[inserted_idx]\n",
    "            inserted_idx = parent_idx\n",
    "            \n",
    "        return True"
   ]
  },
  {
   "cell_type": "code",
   "execution_count": 19,
   "id": "22ea517d",
   "metadata": {},
   "outputs": [],
   "source": [
    "heap = Heap(15)"
   ]
  },
  {
   "cell_type": "code",
   "execution_count": 20,
   "id": "ee6b06b0",
   "metadata": {},
   "outputs": [
    {
     "data": {
      "text/plain": [
       "[None, 15]"
      ]
     },
     "execution_count": 20,
     "metadata": {},
     "output_type": "execute_result"
    }
   ],
   "source": [
    "heap.heap_array"
   ]
  },
  {
   "cell_type": "code",
   "execution_count": 21,
   "id": "5c095178",
   "metadata": {},
   "outputs": [
    {
     "data": {
      "text/plain": [
       "True"
      ]
     },
     "execution_count": 21,
     "metadata": {},
     "output_type": "execute_result"
    }
   ],
   "source": [
    "heap.insert(10)"
   ]
  },
  {
   "cell_type": "code",
   "execution_count": 23,
   "id": "d57fa6a3",
   "metadata": {},
   "outputs": [
    {
     "data": {
      "text/plain": [
       "[None, 15, 10]"
      ]
     },
     "execution_count": 23,
     "metadata": {},
     "output_type": "execute_result"
    }
   ],
   "source": [
    "heap.heap_array"
   ]
  },
  {
   "cell_type": "code",
   "execution_count": 24,
   "id": "eb8af9d9",
   "metadata": {},
   "outputs": [
    {
     "data": {
      "text/plain": [
       "True"
      ]
     },
     "execution_count": 24,
     "metadata": {},
     "output_type": "execute_result"
    }
   ],
   "source": [
    "heap.insert(8)"
   ]
  },
  {
   "cell_type": "code",
   "execution_count": 25,
   "id": "0b760113",
   "metadata": {},
   "outputs": [
    {
     "data": {
      "text/plain": [
       "[None, 15, 10, 8]"
      ]
     },
     "execution_count": 25,
     "metadata": {},
     "output_type": "execute_result"
    }
   ],
   "source": [
    "heap.heap_array"
   ]
  },
  {
   "cell_type": "code",
   "execution_count": 26,
   "id": "ff8ffaea",
   "metadata": {},
   "outputs": [
    {
     "data": {
      "text/plain": [
       "True"
      ]
     },
     "execution_count": 26,
     "metadata": {},
     "output_type": "execute_result"
    }
   ],
   "source": [
    "heap.insert(16)"
   ]
  },
  {
   "cell_type": "code",
   "execution_count": 28,
   "id": "c7303793",
   "metadata": {},
   "outputs": [
    {
     "data": {
      "text/plain": [
       "[None, 16, 15, 8, 10]"
      ]
     },
     "execution_count": 28,
     "metadata": {},
     "output_type": "execute_result"
    }
   ],
   "source": [
    "heap.heap_array"
   ]
  },
  {
   "cell_type": "markdown",
   "id": "c0dbe087",
   "metadata": {},
   "source": [
    "## Max Heap - Pop"
   ]
  },
  {
   "cell_type": "code",
   "execution_count": 29,
   "id": "12e0b8b9",
   "metadata": {},
   "outputs": [],
   "source": [
    "class Heap:\n",
    "    def __init__(self,data):\n",
    "        self.heap_array = list()\n",
    "        self.heap_array.append(None)\n",
    "        self.heap_array.append(data)\n",
    "   \n",
    "    def move_down(self,popped_idx):\n",
    "        left_child_popped_idx = popped_idx*2\n",
    "        right_child_popped_idx = popped_idx*2 + 1\n",
    "        \n",
    "        # case 1 : 왼쪽 자식 노드도 없을 때 (즉, 자식 노드가 하나도 없는 경우)\n",
    "        if left_child_popped_idx >= len(self.heap_array):\n",
    "            return False\n",
    "        \n",
    "        # case 2 : 오른쪽 자식 노드가 없을 때 (즉, 왼쪽 자식 노드가 있는 경우)\n",
    "        elif right_child_popped_idx >= len(self.heap_array):\n",
    "            if self.heap_array[popped_idx] < self.heap_array[left_child_popped_idx]:\n",
    "                return True\n",
    "            else:\n",
    "                return False\n",
    "            \n",
    "        # case 3 : 왼쪽, 오른쪽 자식 노드 모두 있을 때\n",
    "        else:\n",
    "            if (self.heap_array[left_child_popped_idx] > self.heap_array[right_child_popped_idx]):\n",
    "                if(self.heap_array[popped_idx] < self.heap_array[left_child_popped_idx]):\n",
    "                    return True\n",
    "                else:\n",
    "                    return False\n",
    "            else:\n",
    "                if(self.heap_array[popped_idx] < self.heap_array[right_child_popped_idx]):\n",
    "                    return True\n",
    "                else:\n",
    "                    return False\n",
    "\n",
    "    def pop(self):\n",
    "        if len(self.heap_array)<=1:\n",
    "            return None\n",
    "        \n",
    "        returned_data = self.heap_array[1]\n",
    "        \n",
    "        # last_idx = len(self.heap_array)-1\n",
    "        self.heap_array[1] = self.heap_array[-1]\n",
    "        \n",
    "        del self.heap_array[-1]\n",
    "        \n",
    "        popped_idx = 1  \n",
    "        while self.move_down(popped_idx):\n",
    "            left_child_popped_idx = popped_idx*2\n",
    "            right_child_popped_idx = popped_idx*2 + 1\n",
    "\n",
    "            # case 1 : 왼쪽 자식 노드도 없을 때 (즉, 자식 노드가 하나도 없는 경우)\n",
    "            if left_child_popped_idx >= len(self.heap_array):\n",
    "                return False\n",
    "\n",
    "            # case 2 : 오른쪽 자식 노드가 없을 때 (즉, 왼쪽 자식 노드가 있는 경우)\n",
    "            elif right_child_popped_idx >= len(self.heap_array):\n",
    "                if self.heap_array[popped_idx] < self.heap_array[left_child_popped_idx]:\n",
    "                    self.heap_array[popped_idx], self.heap_array[left_child_popped_idx] = self.heap_array[left_child_popped_idx], self.heap_array[popped_idx]\n",
    "                    popped_idx = left_child_popped_idx\n",
    "                else:\n",
    "                    return False\n",
    "                \n",
    "            # case 3 : 왼쪽, 오른쪽 자식 노드 모두 있을 때\n",
    "            else:\n",
    "                if (self.heap_array[left_child_popped_idx] > self.heap_array[right_child_popped_idx]):\n",
    "                    if(self.heap_array[popped_idx] < self.heap_array[left_child_popped_idx]):\n",
    "                        self.heap_array[popped_idx], self.heap_array[left_child_popped_idx] = self.heap_array[left_child_popped_idx], self.heap_array[popped_idx]\n",
    "                        popped_idx = left_child_popped_idx\n",
    "                    else:\n",
    "                        return False\n",
    "                else:\n",
    "                    if(self.heap_array[popped_idx] < self.heap_array[right_child_popped_idx]):\n",
    "                        self.heap_array[popped_idx], self.heap_array[right_child_popped_idx] = self.heap_array[right_child_popped_idx], self.heap_array[popped_idx]\n",
    "                        popped_idx = right_child_popped_idx\n",
    "                    else:\n",
    "                        return False\n",
    "            \n",
    "            \n",
    "        return returned_data"
   ]
  },
  {
   "cell_type": "markdown",
   "id": "f55d4045",
   "metadata": {},
   "source": [
    "## 전체 코드"
   ]
  },
  {
   "cell_type": "code",
   "execution_count": 30,
   "id": "5b549188",
   "metadata": {},
   "outputs": [],
   "source": [
    "class Heap:\n",
    "    def __init__(self,data):\n",
    "        self.heap_array = list()\n",
    "        self.heap_array.append(None)\n",
    "        self.heap_array.append(data)\n",
    "    \n",
    "    def move_up(self,inserted_idx):\n",
    "        if inserted_idx <=1:\n",
    "            return False\n",
    "        parent_idx = inserted_idx // 2\n",
    "        if (self.heap_array[inserted_idx] > self.heap_array[parent_idx]):\n",
    "            return True\n",
    "        else:\n",
    "            return False\n",
    "    \n",
    "    def insert(self,data):\n",
    "        if len(self.heap_array) == 0:\n",
    "            self.heap_array.append(None)\n",
    "            self.heap_array.append(data)\n",
    "            return True\n",
    "        \n",
    "        self.heap_array.append(data)\n",
    "        \n",
    "        inserted_idx = len(self.heap_array)-1\n",
    "        \n",
    "        while self.move_up(inserted_idx):\n",
    "            parent_idx = inserted_idx // 2\n",
    "            self.heap_array[inserted_idx], self.heap_array[parent_idx] = self.heap_array[parent_idx], self.heap_array[inserted_idx]\n",
    "            inserted_idx = parent_idx\n",
    "            \n",
    "        return True\n",
    "    \n",
    "    def move_down(self,popped_idx):\n",
    "        left_child_popped_idx = popped_idx*2\n",
    "        right_child_popped_idx = popped_idx*2 + 1\n",
    "        \n",
    "        # case 1 : 왼쪽 자식 노드도 없을 때 (즉, 자식 노드가 하나도 없는 경우)\n",
    "        if left_child_popped_idx >= len(self.heap_array):\n",
    "            return False\n",
    "        \n",
    "        # case 2 : 오른쪽 자식 노드가 없을 때 (즉, 왼쪽 자식 노드가 있는 경우)\n",
    "        elif right_child_popped_idx >= len(self.heap_array):\n",
    "            if self.heap_array[popped_idx] < self.heap_array[left_child_popped_idx]:\n",
    "                return True\n",
    "            else:\n",
    "                return False\n",
    "            \n",
    "        # case 3 : 왼쪽, 오른쪽 자식 노드 모두 있을 때\n",
    "        else:\n",
    "            if (self.heap_array[left_child_popped_idx] > self.heap_array[right_child_popped_idx]):\n",
    "                if(self.heap_array[popped_idx] < self.heap_array[left_child_popped_idx]):\n",
    "                    return True\n",
    "                else:\n",
    "                    return False\n",
    "            else:\n",
    "                if(self.heap_array[popped_idx] < self.heap_array[right_child_popped_idx]):\n",
    "                    return True\n",
    "                else:\n",
    "                    return False\n",
    "\n",
    "    def pop(self):\n",
    "        if len(self.heap_array)<=1:\n",
    "            return None\n",
    "        \n",
    "        returned_data = self.heap_array[1]\n",
    "        \n",
    "        # last_idx = len(self.heap_array)-1\n",
    "        self.heap_array[1] = self.heap_array[-1]\n",
    "        \n",
    "        del self.heap_array[-1]\n",
    "        \n",
    "        popped_idx = 1  \n",
    "        while self.move_down(popped_idx):\n",
    "            left_child_popped_idx = popped_idx*2\n",
    "            right_child_popped_idx = popped_idx*2 + 1\n",
    "\n",
    "            # case 1 : 왼쪽 자식 노드도 없을 때 (즉, 자식 노드가 하나도 없는 경우)\n",
    "            if left_child_popped_idx >= len(self.heap_array):\n",
    "                return False\n",
    "\n",
    "            # case 2 : 오른쪽 자식 노드가 없을 때 (즉, 왼쪽 자식 노드가 있는 경우)\n",
    "            elif right_child_popped_idx >= len(self.heap_array):\n",
    "                if self.heap_array[popped_idx] < self.heap_array[left_child_popped_idx]:\n",
    "                    self.heap_array[popped_idx], self.heap_array[left_child_popped_idx] = self.heap_array[left_child_popped_idx], self.heap_array[popped_idx]\n",
    "                    popped_idx = left_child_popped_idx\n",
    "                else:\n",
    "                    return False\n",
    "                \n",
    "            # case 3 : 왼쪽, 오른쪽 자식 노드 모두 있을 때\n",
    "            else:\n",
    "                if (self.heap_array[left_child_popped_idx] > self.heap_array[right_child_popped_idx]):\n",
    "                    if(self.heap_array[popped_idx] < self.heap_array[left_child_popped_idx]):\n",
    "                        self.heap_array[popped_idx], self.heap_array[left_child_popped_idx] = self.heap_array[left_child_popped_idx], self.heap_array[popped_idx]\n",
    "                        popped_idx = left_child_popped_idx\n",
    "                    else:\n",
    "                        return False\n",
    "                else:\n",
    "                    if(self.heap_array[popped_idx] < self.heap_array[right_child_popped_idx]):\n",
    "                        self.heap_array[popped_idx], self.heap_array[right_child_popped_idx] = self.heap_array[right_child_popped_idx], self.heap_array[popped_idx]\n",
    "                        popped_idx = right_child_popped_idx\n",
    "                    else:\n",
    "                        return False\n",
    "            \n",
    "            \n",
    "        return returned_data    "
   ]
  },
  {
   "cell_type": "code",
   "execution_count": 32,
   "id": "662893ba",
   "metadata": {},
   "outputs": [
    {
     "data": {
      "text/plain": [
       "[None, 20, 10, 15, 5, 4, 8]"
      ]
     },
     "execution_count": 32,
     "metadata": {},
     "output_type": "execute_result"
    }
   ],
   "source": [
    "heap =Heap(15)\n",
    "heap.insert(10)\n",
    "heap.insert(8)\n",
    "heap.insert(5)\n",
    "heap.insert(4)\n",
    "heap.insert(20)\n",
    "\n",
    "heap.heap_array\n",
    "   "
   ]
  },
  {
   "cell_type": "code",
   "execution_count": 33,
   "id": "1fd9ccc9",
   "metadata": {},
   "outputs": [
    {
     "data": {
      "text/plain": [
       "20"
      ]
     },
     "execution_count": 33,
     "metadata": {},
     "output_type": "execute_result"
    }
   ],
   "source": [
    "heap.pop()"
   ]
  },
  {
   "cell_type": "code",
   "execution_count": 34,
   "id": "89bf1123",
   "metadata": {},
   "outputs": [
    {
     "data": {
      "text/plain": [
       "[None, 15, 10, 8, 5, 4]"
      ]
     },
     "execution_count": 34,
     "metadata": {},
     "output_type": "execute_result"
    }
   ],
   "source": [
    "heap.heap_array"
   ]
  }
 ],
 "metadata": {
  "kernelspec": {
   "display_name": "Python 3 (ipykernel)",
   "language": "python",
   "name": "python3"
  },
  "language_info": {
   "codemirror_mode": {
    "name": "ipython",
    "version": 3
   },
   "file_extension": ".py",
   "mimetype": "text/x-python",
   "name": "python",
   "nbconvert_exporter": "python",
   "pygments_lexer": "ipython3",
   "version": "3.9.7"
  }
 },
 "nbformat": 4,
 "nbformat_minor": 5
}

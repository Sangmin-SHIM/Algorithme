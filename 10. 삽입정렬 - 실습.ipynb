{
 "cells": [
  {
   "cell_type": "code",
   "execution_count": 11,
   "id": "8d2f70f2",
   "metadata": {},
   "outputs": [],
   "source": [
    "def insert_bubblesort(data_list):\n",
    "    for index in range(1, len(data_list)):\n",
    "        for index2 in range(index-1,-1,-1):\n",
    "            if data_list[index2] > data_list[index]:\n",
    "                data_list[index2], data_list[index] = data_list[index], data_list[index2]\n",
    "                index=index2\n",
    "            else:\n",
    "                pass\n",
    "    return data_list"
   ]
  },
  {
   "cell_type": "code",
   "execution_count": 32,
   "id": "7def78bf",
   "metadata": {},
   "outputs": [
    {
     "name": "stdout",
     "output_type": "stream",
     "text": [
      "[101, 248, 305, 452, 454, 598, 663, 713, 834, 908, 1136, 1333, 1426, 1503, 1580, 1617, 1670, 1815, 1957, 2052, 2089, 2105, 2106, 2336, 2342, 2404, 2426, 2689, 2718, 2863, 2929, 3091, 3206, 3269, 3327, 3335, 3440, 3469, 3503, 3632, 3826, 3887, 3984, 4046, 4091, 4177, 4357, 4607, 4650, 4679, 4975, 4978, 4989, 5010, 5174, 5193, 5233, 5265, 5373, 5415, 5583, 5686, 5731, 5837, 5863, 5895, 6048, 6058, 6244, 6408, 6938, 7009, 7283, 7291, 7334, 7640, 7695, 7816, 8087, 8355, 8443, 8569, 8685, 8750, 9040, 9132, 9183, 9277, 9329, 9483, 9487, 9524, 9559, 9606, 9620, 9629, 9799, 9803, 9828, 9892]\n"
     ]
    }
   ],
   "source": [
    "import random\n",
    "\n",
    "data_list = random.sample(range(10000),100)\n",
    "\n",
    "print(insert_bubblesort(data_list))"
   ]
  },
  {
   "cell_type": "markdown",
   "id": "285e51b4",
   "metadata": {},
   "source": [
    "## 선생님 풀이"
   ]
  },
  {
   "cell_type": "code",
   "execution_count": 27,
   "id": "3567b3c5",
   "metadata": {},
   "outputs": [],
   "source": [
    "def insertion_sort(data):\n",
    "    for turn in range(len(data)-1):\n",
    "        for index2 in range(turn+1,0,-1):\n",
    "            if data[index2] <data[index2-1]:\n",
    "                data[index2],data[index2-1] = data[index2-1], data[index2]\n",
    "            else:\n",
    "                break\n",
    "    return data"
   ]
  },
  {
   "cell_type": "code",
   "execution_count": 31,
   "id": "2846b393",
   "metadata": {},
   "outputs": [
    {
     "name": "stdout",
     "output_type": "stream",
     "text": [
      "[1, 6, 7, 10, 14, 16, 17, 19, 23, 24, 27, 30, 31, 33, 34, 37, 38, 40, 41, 42, 43, 48, 49, 53, 57, 58, 59, 60, 61, 63, 65, 67, 70, 71, 72, 73, 74, 75, 78, 79, 81, 82, 85, 86, 88, 91, 93, 95, 97, 99]\n"
     ]
    }
   ],
   "source": [
    "import random\n",
    "\n",
    "data_list = random.sample(range(100),50)\n",
    "\n",
    "print(insertion_sort(data_list))"
   ]
  }
 ],
 "metadata": {
  "kernelspec": {
   "display_name": "Python 3 (ipykernel)",
   "language": "python",
   "name": "python3"
  },
  "language_info": {
   "codemirror_mode": {
    "name": "ipython",
    "version": 3
   },
   "file_extension": ".py",
   "mimetype": "text/x-python",
   "name": "python",
   "nbconvert_exporter": "python",
   "pygments_lexer": "ipython3",
   "version": "3.9.7"
  }
 },
 "nbformat": 4,
 "nbformat_minor": 5
}

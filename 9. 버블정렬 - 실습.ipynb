{
 "cells": [
  {
   "cell_type": "code",
   "execution_count": 5,
   "id": "2e44848e",
   "metadata": {},
   "outputs": [
    {
     "name": "stdout",
     "output_type": "stream",
     "text": [
      "[1, 3, 5, 9, 10]\n"
     ]
    }
   ],
   "source": [
    "list=[1,9,5,10,3]\n",
    "\n",
    "for index in range(len(list)-1):\n",
    "    for index2 in range(len(list)-1-index):\n",
    "        if list[index2] > list[index2+1]:\n",
    "            list[index2], list[index2+1] = list[index2+1], list[index2]\n",
    "        else:\n",
    "            pass\n",
    "\n",
    "sorted_list = list\n",
    "\n",
    "print(sorted_list)"
   ]
  },
  {
   "cell_type": "code",
   "execution_count": 29,
   "id": "20413671",
   "metadata": {},
   "outputs": [],
   "source": [
    "def bubblesort(data):\n",
    "    for index in range(len(data)-1):\n",
    "        swap = False\n",
    "        for index2 in range(len(data)-1-index):\n",
    "            if data[index2] > data[index2+1]:\n",
    "                data[index2], data[index2+1] = data[index2+1], data[index2]  \n",
    "                swap = True\n",
    "        if swap == False:\n",
    "            break\n",
    "    return data"
   ]
  },
  {
   "cell_type": "code",
   "execution_count": 33,
   "id": "94551e44",
   "metadata": {},
   "outputs": [
    {
     "data": {
      "text/plain": [
       "[17,\n",
       " 34,\n",
       " 38,\n",
       " 43,\n",
       " 56,\n",
       " 64,\n",
       " 125,\n",
       " 138,\n",
       " 157,\n",
       " 184,\n",
       " 211,\n",
       " 235,\n",
       " 237,\n",
       " 241,\n",
       " 244,\n",
       " 286,\n",
       " 295,\n",
       " 300,\n",
       " 324,\n",
       " 341,\n",
       " 371,\n",
       " 383,\n",
       " 388,\n",
       " 410,\n",
       " 424,\n",
       " 449,\n",
       " 469,\n",
       " 531,\n",
       " 539,\n",
       " 556,\n",
       " 567,\n",
       " 622,\n",
       " 627,\n",
       " 670,\n",
       " 726,\n",
       " 728,\n",
       " 734,\n",
       " 742,\n",
       " 754,\n",
       " 765,\n",
       " 772,\n",
       " 777,\n",
       " 780,\n",
       " 794,\n",
       " 827,\n",
       " 844,\n",
       " 876,\n",
       " 980,\n",
       " 984,\n",
       " 991]"
      ]
     },
     "execution_count": 33,
     "metadata": {},
     "output_type": "execute_result"
    }
   ],
   "source": [
    "import random\n",
    "\n",
    "data_list = random.sample(range(1000),50)\n",
    "bubblesort(data_list)"
   ]
  }
 ],
 "metadata": {
  "kernelspec": {
   "display_name": "Python 3 (ipykernel)",
   "language": "python",
   "name": "python3"
  },
  "language_info": {
   "codemirror_mode": {
    "name": "ipython",
    "version": 3
   },
   "file_extension": ".py",
   "mimetype": "text/x-python",
   "name": "python",
   "nbconvert_exporter": "python",
   "pygments_lexer": "ipython3",
   "version": "3.9.7"
  }
 },
 "nbformat": 4,
 "nbformat_minor": 5
}

{
 "cells": [
  {
   "cell_type": "code",
   "execution_count": 2,
   "id": "24b422b3",
   "metadata": {},
   "outputs": [],
   "source": [
    "# 재귀 함수\n",
    "def recursive(data):\n",
    "    if data<0:\n",
    "        print(\"end\")\n",
    "    else:\n",
    "        print(data)\n",
    "        recursive(data-1)\n",
    "        print(\"returned : \", data)"
   ]
  },
  {
   "cell_type": "code",
   "execution_count": 3,
   "id": "9fcffd87",
   "metadata": {},
   "outputs": [
    {
     "name": "stdout",
     "output_type": "stream",
     "text": [
      "5\n",
      "4\n",
      "3\n",
      "2\n",
      "1\n",
      "0\n",
      "end\n",
      "returned :  0\n",
      "returned :  1\n",
      "returned :  2\n",
      "returned :  3\n",
      "returned :  4\n",
      "returned :  5\n"
     ]
    }
   ],
   "source": [
    "recursive(5)"
   ]
  },
  {
   "cell_type": "code",
   "execution_count": 13,
   "id": "8c933eda",
   "metadata": {},
   "outputs": [],
   "source": [
    "data_stack=list()\n",
    "\n",
    "data_stack.append(1)\n",
    "data_stack.append(2)"
   ]
  },
  {
   "cell_type": "code",
   "execution_count": 16,
   "id": "e4c141dc",
   "metadata": {},
   "outputs": [
    {
     "data": {
      "text/plain": [
       "[1, 2]"
      ]
     },
     "execution_count": 16,
     "metadata": {},
     "output_type": "execute_result"
    }
   ],
   "source": [
    "data_stack"
   ]
  },
  {
   "cell_type": "code",
   "execution_count": 30,
   "id": "00744758",
   "metadata": {},
   "outputs": [],
   "source": [
    "stack_list=list()\n",
    "\n",
    "def push(data):\n",
    "    stack_list.append(data)\n",
    "\n",
    "def pop():\n",
    "    data=stack_list[-1]\n",
    "    del stack_list[-1]\n",
    "    return data"
   ]
  },
  {
   "cell_type": "code",
   "execution_count": 32,
   "id": "bdae2c8e",
   "metadata": {},
   "outputs": [],
   "source": [
    "push(1)"
   ]
  },
  {
   "cell_type": "code",
   "execution_count": 34,
   "id": "2e1f0af2",
   "metadata": {},
   "outputs": [
    {
     "data": {
      "text/plain": [
       "[2]"
      ]
     },
     "execution_count": 34,
     "metadata": {},
     "output_type": "execute_result"
    }
   ],
   "source": [
    "stack_list"
   ]
  }
 ],
 "metadata": {
  "kernelspec": {
   "display_name": "Python 3 (ipykernel)",
   "language": "python",
   "name": "python3"
  },
  "language_info": {
   "codemirror_mode": {
    "name": "ipython",
    "version": 3
   },
   "file_extension": ".py",
   "mimetype": "text/x-python",
   "name": "python",
   "nbconvert_exporter": "python",
   "pygments_lexer": "ipython3",
   "version": "3.9.7"
  }
 },
 "nbformat": 4,
 "nbformat_minor": 5
}

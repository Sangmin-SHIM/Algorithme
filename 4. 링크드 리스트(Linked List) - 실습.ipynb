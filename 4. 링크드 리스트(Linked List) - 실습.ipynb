{
 "cells": [
  {
   "cell_type": "code",
   "execution_count": 1,
   "id": "9d8445e4",
   "metadata": {},
   "outputs": [],
   "source": [
    "class Node:\n",
    "#     data = data, next = pointer\n",
    "    def __init__(self,data, next=None):\n",
    "        self.data=data\n",
    "        self.next=next\n",
    "def add(data):\n",
    "#    head = node1 \n",
    "    node = head\n",
    "    while node.next:\n",
    "        node=node.next\n",
    "    node.next=Node(data)"
   ]
  },
  {
   "cell_type": "code",
   "execution_count": 2,
   "id": "9011d9a6",
   "metadata": {},
   "outputs": [],
   "source": [
    "node1=Node(1)\n",
    "head=node1\n",
    "\n",
    "for index in range(1,10):\n",
    "    add(index)"
   ]
  },
  {
   "cell_type": "code",
   "execution_count": 4,
   "id": "0a34fa99",
   "metadata": {},
   "outputs": [
    {
     "name": "stdout",
     "output_type": "stream",
     "text": [
      "1\n",
      "1\n",
      "2\n",
      "3\n",
      "4\n",
      "5\n",
      "6\n",
      "7\n",
      "8\n",
      "9\n"
     ]
    }
   ],
   "source": [
    "node =head\n",
    "while node.next:\n",
    "    print(node.data)\n",
    "    node = node.next\n",
    "print(node.data)"
   ]
  },
  {
   "cell_type": "code",
   "execution_count": null,
   "id": "a026897e",
   "metadata": {},
   "outputs": [],
   "source": []
  }
 ],
 "metadata": {
  "kernelspec": {
   "display_name": "Python 3 (ipykernel)",
   "language": "python",
   "name": "python3"
  },
  "language_info": {
   "codemirror_mode": {
    "name": "ipython",
    "version": 3
   },
   "file_extension": ".py",
   "mimetype": "text/x-python",
   "name": "python",
   "nbconvert_exporter": "python",
   "pygments_lexer": "ipython3",
   "version": "3.9.7"
  }
 },
 "nbformat": 4,
 "nbformat_minor": 5
}

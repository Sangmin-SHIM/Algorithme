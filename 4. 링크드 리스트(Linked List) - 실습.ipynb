{
 "cells": [
  {
   "cell_type": "code",
   "execution_count": 7,
   "id": "9d8445e4",
   "metadata": {},
   "outputs": [],
   "source": [
    "class Node:\n",
    "#     data = data, next = pointer\n",
    "    def __init__(self,data, next=None):\n",
    "        self.data=data\n",
    "        self.next=next\n",
    "def add(data):\n",
    "#    head = node1 \n",
    "    node = head\n",
    "    while node.next:\n",
    "        node=node.next\n",
    "    node.next=Node(data)"
   ]
  },
  {
   "cell_type": "code",
   "execution_count": 8,
   "id": "9011d9a6",
   "metadata": {},
   "outputs": [],
   "source": [
    "node1=Node(1)\n",
    "head=node1\n",
    "\n",
    "for index in range(2,10):\n",
    "    add(index)"
   ]
  },
  {
   "cell_type": "code",
   "execution_count": 9,
   "id": "0a34fa99",
   "metadata": {},
   "outputs": [
    {
     "name": "stdout",
     "output_type": "stream",
     "text": [
      "1\n",
      "2\n",
      "3\n",
      "4\n",
      "5\n",
      "6\n",
      "7\n",
      "8\n",
      "9\n"
     ]
    }
   ],
   "source": [
    "node =head\n",
    "while node.next:\n",
    "    print(node.data)\n",
    "    node = node.next\n",
    "print(node.data)"
   ]
  },
  {
   "cell_type": "code",
   "execution_count": 6,
   "id": "a026897e",
   "metadata": {},
   "outputs": [
    {
     "data": {
      "text/plain": [
       "1.5"
      ]
     },
     "execution_count": 6,
     "metadata": {},
     "output_type": "execute_result"
    }
   ],
   "source": [
    "node3 = Node(1.5)"
   ]
  },
  {
   "cell_type": "code",
   "execution_count": 10,
   "id": "9fabf908",
   "metadata": {},
   "outputs": [],
   "source": [
    "node = head\n",
    "search = True\n",
    "while search:\n",
    "    if node.data == 1:\n",
    "        search = False\n",
    "    else:\n",
    "        node = node.next\n",
    "        \n",
    "node_next = node.next\n",
    "node.next = node3\n",
    "node3.next = node_next"
   ]
  },
  {
   "cell_type": "code",
   "execution_count": 12,
   "id": "d9980f09",
   "metadata": {},
   "outputs": [
    {
     "name": "stdout",
     "output_type": "stream",
     "text": [
      "1\n",
      "1.5\n",
      "2\n",
      "3\n",
      "4\n",
      "5\n",
      "6\n",
      "7\n",
      "8\n",
      "9\n"
     ]
    }
   ],
   "source": [
    "node =head\n",
    "while node.next:\n",
    "    print(node.data)\n",
    "    node = node.next\n",
    "print(node.data)"
   ]
  },
  {
   "cell_type": "code",
   "execution_count": 100,
   "id": "3ead4d5d",
   "metadata": {},
   "outputs": [],
   "source": [
    "class Node:\n",
    "    def __init__(self, data, next=None):\n",
    "        self.data= data\n",
    "        self.next= next\n",
    "\n",
    "class NodeMgmt:\n",
    "    def __init__(self,data):\n",
    "        self.head = Node(data)\n",
    "    \n",
    "    def add(self, data):\n",
    "        if self.head == '':\n",
    "            self.head = Node(data)\n",
    "        else:\n",
    "            node = self.head\n",
    "            while node.next:\n",
    "                node=node.next\n",
    "            node.next=Node(data)\n",
    "            \n",
    "    def desc(self):\n",
    "        node = self.head\n",
    "        while node:\n",
    "            print(node.data)\n",
    "            node = node.next\n",
    "            \n",
    "    def delete(self, data):\n",
    "        if self.head == '':\n",
    "            print(\"해당 값을 가진 노드가 없습니다.\")\n",
    "            return\n",
    "        \n",
    "        if self.head.data == data:\n",
    "            temp = self.head\n",
    "            self.head = self.head.next\n",
    "            del temp\n",
    "        else:\n",
    "            node=self.head\n",
    "            while node.next:\n",
    "                if node.next.data == data:\n",
    "                    temp = node.next\n",
    "                    node.next = node.next.next\n",
    "                    del temp\n",
    "                    return\n",
    "                else:\n",
    "                    node=node.next\n",
    "                    \n",
    "    def search_node(self,data):\n",
    "        node= self.head\n",
    "        while node:\n",
    "            if node.data == data:\n",
    "                return node\n",
    "            else:\n",
    "                node=node.next"
   ]
  },
  {
   "cell_type": "code",
   "execution_count": 70,
   "id": "a8a533b7",
   "metadata": {},
   "outputs": [
    {
     "name": "stdout",
     "output_type": "stream",
     "text": [
      "0\n"
     ]
    }
   ],
   "source": [
    "# linkedlist1 = NodeMgmt(0)\n",
    "# linkedlist1.desc()"
   ]
  },
  {
   "cell_type": "code",
   "execution_count": 71,
   "id": "3a418858",
   "metadata": {},
   "outputs": [
    {
     "data": {
      "text/plain": [
       "<__main__.Node at 0x20bcc567940>"
      ]
     },
     "execution_count": 71,
     "metadata": {},
     "output_type": "execute_result"
    }
   ],
   "source": [
    "# linkedlist1.head"
   ]
  },
  {
   "cell_type": "code",
   "execution_count": 57,
   "id": "f565a42d",
   "metadata": {},
   "outputs": [],
   "source": [
    "# linkedlist1.delete(0)"
   ]
  },
  {
   "cell_type": "code",
   "execution_count": 59,
   "id": "0cbed8bc",
   "metadata": {},
   "outputs": [],
   "source": [
    "# linkedlist1.head"
   ]
  },
  {
   "cell_type": "code",
   "execution_count": 113,
   "id": "b655f512",
   "metadata": {},
   "outputs": [
    {
     "name": "stdout",
     "output_type": "stream",
     "text": [
      "0\n"
     ]
    }
   ],
   "source": [
    "linkedlist1 = NodeMgmt(0)\n",
    "linkedlist1.desc()"
   ]
  },
  {
   "cell_type": "code",
   "execution_count": 114,
   "id": "62aae4dd",
   "metadata": {},
   "outputs": [
    {
     "name": "stdout",
     "output_type": "stream",
     "text": [
      "0\n",
      "1\n",
      "2\n",
      "3\n",
      "4\n",
      "5\n",
      "6\n",
      "7\n",
      "8\n",
      "9\n"
     ]
    }
   ],
   "source": [
    "for data in range(1,10):\n",
    "    linkedlist1.add(data)\n",
    "linkedlist1.desc()"
   ]
  },
  {
   "cell_type": "code",
   "execution_count": 116,
   "id": "b52d6851",
   "metadata": {},
   "outputs": [
    {
     "name": "stdout",
     "output_type": "stream",
     "text": [
      "9\n"
     ]
    }
   ],
   "source": [
    "print(linkedlist1.search_node(9).data)"
   ]
  },
  {
   "cell_type": "code",
   "execution_count": 117,
   "id": "b6941239",
   "metadata": {},
   "outputs": [],
   "source": [
    "class Node:\n",
    "    def __init__(self,data,prev=None,next=None):\n",
    "        self.data=data\n",
    "        self.prev=prev\n",
    "        self.next=next\n",
    "\n",
    "class NodeMgmt:\n",
    "    def __init__(self,data):\n",
    "        self.head=Node(data)\n",
    "        self.tail = self.head\n",
    "    \n",
    "    def insert(self, data):\n",
    "        if self.head == None:\n",
    "            self.head = Node(data)\n",
    "            self.tail = self.head\n",
    "        else:    \n",
    "            node=self.head\n",
    "\n",
    "            while node.next:\n",
    "                node=node.next\n",
    "            new=Node(data)\n",
    "            node.next=new\n",
    "            new.prev=node\n",
    "            self.tail=new\n",
    "            \n",
    "    def desc(self):\n",
    "        node=self.head\n",
    "        \n",
    "        while node:\n",
    "            print(node.data)\n",
    "            node=node.next"
   ]
  },
  {
   "cell_type": "code",
   "execution_count": 119,
   "id": "eae515ad",
   "metadata": {},
   "outputs": [
    {
     "name": "stdout",
     "output_type": "stream",
     "text": [
      "0\n",
      "1\n",
      "2\n",
      "3\n",
      "4\n",
      "5\n",
      "6\n",
      "7\n",
      "8\n",
      "9\n"
     ]
    }
   ],
   "source": [
    "double_linked_list = NodeMgmt(0)\n",
    "\n",
    "for data in range(1,10):\n",
    "    double_linked_list.insert(data)\n",
    "double_linked_list.desc()"
   ]
  },
  {
   "cell_type": "code",
   "execution_count": 164,
   "id": "08600bc0",
   "metadata": {},
   "outputs": [],
   "source": [
    "class Node:\n",
    "    def __init__(self,data,prev=None,next=None):\n",
    "        self.data=data\n",
    "        self.prev=prev\n",
    "        self.next=next\n",
    "\n",
    "class NodeMgmt:\n",
    "    def __init__(self,data):\n",
    "        self.head=Node(data)\n",
    "        self.tail = self.head\n",
    "    \n",
    "    def insert(self, data):\n",
    "        if self.head == None:\n",
    "            self.head = Node(data)\n",
    "            self.tail = self.head\n",
    "        else:    \n",
    "            node=self.head\n",
    "\n",
    "            while node.next:\n",
    "                node=node.next\n",
    "            new=Node(data)\n",
    "            node.next=new\n",
    "            new.prev=node\n",
    "            self.tail=new\n",
    "\n",
    "    \n",
    "    def insert_after(self,data,after_data):\n",
    "        if self.head == None:\n",
    "            self.head = Node(data)\n",
    "            return True\n",
    "        else:\n",
    "            node=self.head    \n",
    "            while node.data !=after_data:\n",
    "                node=node.next\n",
    "                if node == None:\n",
    "                    return False\n",
    "\n",
    "            new = Node(data)\n",
    "            after_new = node.next             \n",
    "            node.next=new\n",
    "            new.prev=node \n",
    "            new.next=after_new\n",
    "            if new.next==None:\n",
    "                self.tail=new\n",
    "            return True\n",
    "        \n",
    "        def insert_before(self,data,before_data):\n",
    "            if self.head == None:\n",
    "                self.head = Node(data)\n",
    "                return True\n",
    "            else:\n",
    "                node=self.tail    \n",
    "                while node.data !=before_data:\n",
    "                    node=node.prev\n",
    "                    if node == None:\n",
    "                        return False\n",
    "                temp = node.prev\n",
    "                new = Node(data)\n",
    "                node.prev=new\n",
    "                new.next=node \n",
    "                new.prev=temp\n",
    "                temp.next=new\n",
    "                return True    \n",
    "        \n",
    "            \n",
    "    def desc(self):\n",
    "        node=self.head\n",
    "        \n",
    "        while node:\n",
    "            print(node.data)\n",
    "            node=node.next\n",
    "    \n",
    "    def search_from_head(self,data):\n",
    "        if self.head == None:\n",
    "            return False\n",
    "        \n",
    "        node=self.head\n",
    "        while node:\n",
    "            if node.data == data:\n",
    "                return node\n",
    "            else:\n",
    "                node=node.next\n",
    "        return False\n",
    "    \n",
    "    def search_from_tail(self,data):\n",
    "        if self.head == None:\n",
    "            return False\n",
    "        \n",
    "        node=self.tail\n",
    "        while node:\n",
    "            if node.data == data:\n",
    "                return node\n",
    "            else:\n",
    "                node=node.prev\n",
    "        return False"
   ]
  },
  {
   "cell_type": "code",
   "execution_count": null,
   "id": "ba9e5cdb",
   "metadata": {
    "scrolled": true
   },
   "outputs": [],
   "source": [
    "double_linked_list = NodeMgmt(0)\n",
    "\n",
    "for data in range(1,10):\n",
    "    double_linked_list.insert(data)\n",
    "double_linked_list.desc()"
   ]
  },
  {
   "cell_type": "code",
   "execution_count": null,
   "id": "c2c9c23e",
   "metadata": {},
   "outputs": [],
   "source": []
  },
  {
   "cell_type": "code",
   "execution_count": 134,
   "id": "0ed16347",
   "metadata": {},
   "outputs": [
    {
     "name": "stdout",
     "output_type": "stream",
     "text": [
      "None\n"
     ]
    }
   ],
   "source": [
    "node=double_linked_list.search_from_head(10)\n",
    "if node:\n",
    "    print(node.data)\n",
    "else:\n",
    "    print(\"None\")"
   ]
  },
  {
   "cell_type": "code",
   "execution_count": 142,
   "id": "f58e7d02",
   "metadata": {},
   "outputs": [
    {
     "name": "stdout",
     "output_type": "stream",
     "text": [
      "3\n"
     ]
    }
   ],
   "source": [
    "node=double_linked_list.search_from_tail(3)\n",
    "if node:\n",
    "    print(node.data)\n",
    "else:\n",
    "    print(\"None\")"
   ]
  },
  {
   "cell_type": "code",
   "execution_count": 147,
   "id": "138e1626",
   "metadata": {},
   "outputs": [
    {
     "data": {
      "text/plain": [
       "True"
      ]
     },
     "execution_count": 147,
     "metadata": {},
     "output_type": "execute_result"
    }
   ],
   "source": [
    "double_linked_list.insert_before(1.5,6)"
   ]
  },
  {
   "cell_type": "code",
   "execution_count": 161,
   "id": "56924f94",
   "metadata": {},
   "outputs": [
    {
     "data": {
      "text/plain": [
       "True"
      ]
     },
     "execution_count": 161,
     "metadata": {},
     "output_type": "execute_result"
    }
   ],
   "source": [
    "double_linked_list.insert_after(6.7,9)"
   ]
  },
  {
   "cell_type": "code",
   "execution_count": 166,
   "id": "4f27156f",
   "metadata": {},
   "outputs": [
    {
     "name": "stdout",
     "output_type": "stream",
     "text": [
      "0\n",
      "1\n",
      "2\n",
      "3\n",
      "4\n",
      "5\n",
      "6\n",
      "7\n",
      "8\n",
      "9\n"
     ]
    },
    {
     "ename": "AttributeError",
     "evalue": "'NoneType' object has no attribute 'prev'",
     "output_type": "error",
     "traceback": [
      "\u001b[1;31m---------------------------------------------------------------------------\u001b[0m",
      "\u001b[1;31mAttributeError\u001b[0m                            Traceback (most recent call last)",
      "\u001b[1;32m~\\AppData\\Local\\Temp/ipykernel_30696/1557865172.py\u001b[0m in \u001b[0;36m<module>\u001b[1;34m\u001b[0m\n\u001b[0;32m      5\u001b[0m \u001b[0mnode_mgmt\u001b[0m\u001b[1;33m.\u001b[0m\u001b[0mdesc\u001b[0m\u001b[1;33m(\u001b[0m\u001b[1;33m)\u001b[0m\u001b[1;33m\u001b[0m\u001b[1;33m\u001b[0m\u001b[0m\n\u001b[0;32m      6\u001b[0m \u001b[1;33m\u001b[0m\u001b[0m\n\u001b[1;32m----> 7\u001b[1;33m \u001b[0mnode_mgmt\u001b[0m\u001b[1;33m.\u001b[0m\u001b[0minsert_after\u001b[0m\u001b[1;33m(\u001b[0m\u001b[1;36m1.5\u001b[0m\u001b[1;33m,\u001b[0m \u001b[1;36m9\u001b[0m\u001b[1;33m)\u001b[0m\u001b[1;33m\u001b[0m\u001b[1;33m\u001b[0m\u001b[0m\n\u001b[0m\u001b[0;32m      8\u001b[0m \u001b[0mnode_mgmt\u001b[0m\u001b[1;33m.\u001b[0m\u001b[0mdesc\u001b[0m\u001b[1;33m(\u001b[0m\u001b[1;33m)\u001b[0m\u001b[1;33m\u001b[0m\u001b[1;33m\u001b[0m\u001b[0m\n",
      "\u001b[1;32m~\\AppData\\Local\\Temp/ipykernel_30696/1542370232.py\u001b[0m in \u001b[0;36minsert_after\u001b[1;34m(self, data, after_data)\u001b[0m\n\u001b[0;32m     41\u001b[0m             \u001b[0mnew\u001b[0m\u001b[1;33m.\u001b[0m\u001b[0mprev\u001b[0m\u001b[1;33m=\u001b[0m\u001b[0mnode\u001b[0m\u001b[1;33m\u001b[0m\u001b[1;33m\u001b[0m\u001b[0m\n\u001b[0;32m     42\u001b[0m             \u001b[0mnew\u001b[0m\u001b[1;33m.\u001b[0m\u001b[0mnext\u001b[0m\u001b[1;33m=\u001b[0m\u001b[0mafter_new\u001b[0m\u001b[1;33m\u001b[0m\u001b[1;33m\u001b[0m\u001b[0m\n\u001b[1;32m---> 43\u001b[1;33m             \u001b[0mafter_new\u001b[0m\u001b[1;33m.\u001b[0m\u001b[0mprev\u001b[0m\u001b[1;33m=\u001b[0m\u001b[0mnew\u001b[0m\u001b[1;33m\u001b[0m\u001b[1;33m\u001b[0m\u001b[0m\n\u001b[0m\u001b[0;32m     44\u001b[0m             \u001b[1;32mif\u001b[0m \u001b[0mnew\u001b[0m\u001b[1;33m.\u001b[0m\u001b[0mnext\u001b[0m\u001b[1;33m==\u001b[0m\u001b[1;32mNone\u001b[0m\u001b[1;33m:\u001b[0m\u001b[1;33m\u001b[0m\u001b[1;33m\u001b[0m\u001b[0m\n\u001b[0;32m     45\u001b[0m                 \u001b[0mself\u001b[0m\u001b[1;33m.\u001b[0m\u001b[0mtail\u001b[0m\u001b[1;33m=\u001b[0m\u001b[0mnew\u001b[0m\u001b[1;33m\u001b[0m\u001b[1;33m\u001b[0m\u001b[0m\n",
      "\u001b[1;31mAttributeError\u001b[0m: 'NoneType' object has no attribute 'prev'"
     ]
    }
   ],
   "source": [
    "node_mgmt = NodeMgmt(0)\n",
    "for data in range(1, 10):\n",
    "    node_mgmt.insert(data)\n",
    "\n",
    "node_mgmt.desc()\n",
    "\n",
    "node_mgmt.insert_after(1.5, 9)\n",
    "node_mgmt.desc()"
   ]
  }
 ],
 "metadata": {
  "kernelspec": {
   "display_name": "Python 3 (ipykernel)",
   "language": "python",
   "name": "python3"
  },
  "language_info": {
   "codemirror_mode": {
    "name": "ipython",
    "version": 3
   },
   "file_extension": ".py",
   "mimetype": "text/x-python",
   "name": "python",
   "nbconvert_exporter": "python",
   "pygments_lexer": "ipython3",
   "version": "3.9.7"
  }
 },
 "nbformat": 4,
 "nbformat_minor": 5
}

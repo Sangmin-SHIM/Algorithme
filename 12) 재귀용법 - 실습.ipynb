{
 "cells": [
  {
   "cell_type": "code",
   "execution_count": 1,
   "id": "64fbe06b",
   "metadata": {},
   "outputs": [],
   "source": [
    "def factorial(num):\n",
    "    sum = 1\n",
    "    for num in range(num,0,-1):\n",
    "        sum = sum*num\n",
    "    \n",
    "    return sum"
   ]
  },
  {
   "cell_type": "code",
   "execution_count": 2,
   "id": "fa394982",
   "metadata": {},
   "outputs": [],
   "source": [
    "def factorial_recursive(num):\n",
    "    sum = 1\n",
    "    if num>1:\n",
    "        sum = num*factorial_recursive(num-1)\n",
    "        return sum\n",
    "    \n",
    "    elif num == 1:\n",
    "        return num\n",
    "    \n",
    "    else:\n",
    "        return \"INVALID NUMBER\"\n",
    "        "
   ]
  },
  {
   "cell_type": "code",
   "execution_count": 1,
   "id": "31a06325",
   "metadata": {},
   "outputs": [],
   "source": [
    "def factorial_recursive2(num):\n",
    "    if num <=1:\n",
    "        return num\n",
    "    sum = num * factorial_recursive2(num-1)\n",
    "    return sum"
   ]
  },
  {
   "cell_type": "code",
   "execution_count": 8,
   "id": "c38d13a8",
   "metadata": {},
   "outputs": [
    {
     "data": {
      "text/plain": [
       "120"
      ]
     },
     "execution_count": 8,
     "metadata": {},
     "output_type": "execute_result"
    }
   ],
   "source": [
    "factorial(5)"
   ]
  },
  {
   "cell_type": "code",
   "execution_count": 3,
   "id": "5675e6bb",
   "metadata": {},
   "outputs": [
    {
     "data": {
      "text/plain": [
       "93326215443944152681699238856266700490715968264381621468592963895217599993229915608941463976156518286253697920827223758251185210916864000000000000000000000000"
      ]
     },
     "execution_count": 3,
     "metadata": {},
     "output_type": "execute_result"
    }
   ],
   "source": [
    "factorial_recursive(100)"
   ]
  },
  {
   "cell_type": "code",
   "execution_count": 10,
   "id": "2c83e628",
   "metadata": {},
   "outputs": [
    {
     "data": {
      "text/plain": [
       "20397882081197443358640281739902897356800000000"
      ]
     },
     "execution_count": 10,
     "metadata": {},
     "output_type": "execute_result"
    }
   ],
   "source": [
    "factorial_recursive2(39)"
   ]
  },
  {
   "cell_type": "code",
   "execution_count": 6,
   "id": "ff1702c4",
   "metadata": {},
   "outputs": [],
   "source": [
    "### 재귀함수 패턴 1\n",
    "\n",
    "def function(입력): \n",
    "    if 입력 > 일정값 : \n",
    "        return function(입력-1) # 입력보다 작은 값\n",
    "    else: \n",
    "        return 일정값 (또는 입력값) # 재귀호출 종료"
   ]
  },
  {
   "cell_type": "code",
   "execution_count": null,
   "id": "21d81ea6",
   "metadata": {},
   "outputs": [],
   "source": [
    "### 재귀함수 패턴 2\n",
    "\n",
    "def function(입력): \n",
    "    if 입력 <= 일정값 : \n",
    "        return 일정값 (또는 일정값)\n",
    "    function(입력보다 작은 값)\n",
    "    return 결과값"
   ]
  },
  {
   "cell_type": "code",
   "execution_count": 7,
   "id": "4635ad92",
   "metadata": {},
   "outputs": [],
   "source": [
    "def multiple(num):\n",
    "    if num <= 1:\n",
    "        return num\n",
    "    sum = 1\n",
    "    sum = num * multiple(num-1)\n",
    "    return sum"
   ]
  },
  {
   "cell_type": "code",
   "execution_count": 11,
   "id": "ae3a0d2d",
   "metadata": {},
   "outputs": [
    {
     "data": {
      "text/plain": [
       "24"
      ]
     },
     "execution_count": 11,
     "metadata": {},
     "output_type": "execute_result"
    }
   ],
   "source": [
    "multiple(4)"
   ]
  },
  {
   "cell_type": "code",
   "execution_count": 12,
   "id": "2608b07a",
   "metadata": {},
   "outputs": [],
   "source": [
    "def multiple2(num):\n",
    "    sum = 1\n",
    "    for index in range(1,num+1):\n",
    "        sum = sum * index\n",
    "    return sum"
   ]
  },
  {
   "cell_type": "code",
   "execution_count": 14,
   "id": "06db62fa",
   "metadata": {},
   "outputs": [
    {
     "data": {
      "text/plain": [
       "24"
      ]
     },
     "execution_count": 14,
     "metadata": {},
     "output_type": "execute_result"
    }
   ],
   "source": [
    "multiple2(4)"
   ]
  },
  {
   "cell_type": "code",
   "execution_count": 34,
   "id": "15df9cc2",
   "metadata": {},
   "outputs": [],
   "source": [
    "def sum_list(data):\n",
    "    if len(data) <= 1:\n",
    "        return data[0]\n",
    "    return data[0] + sum_list(data[1:])\n",
    "\n",
    "def sum_list2(data):\n",
    "    if len(data) <= 1:\n",
    "        return data[0]\n",
    "    sum=0\n",
    "    sum= data[len(data)-1]\n",
    "    data.pop()\n",
    "\n",
    "    return sum + sum_list(data)"
   ]
  },
  {
   "cell_type": "code",
   "execution_count": 39,
   "id": "44ea12cc",
   "metadata": {},
   "outputs": [],
   "source": [
    "import random\n",
    "\n",
    "data = random.sample(range(100),10)"
   ]
  },
  {
   "cell_type": "code",
   "execution_count": 42,
   "id": "ee303724",
   "metadata": {},
   "outputs": [
    {
     "name": "stdout",
     "output_type": "stream",
     "text": [
      "sum_list(data) :  373\n",
      "sum_list2(data) :  373\n"
     ]
    }
   ],
   "source": [
    "print(\"sum_list(data) : \",sum_list(data))\n",
    "print(\"sum_list2(data) : \",sum_list2(data))"
   ]
  },
  {
   "cell_type": "code",
   "execution_count": 50,
   "id": "82b32963",
   "metadata": {},
   "outputs": [],
   "source": [
    "# 회문 (재귀 X)\n",
    "\n",
    "def palindrome(text):\n",
    "    \n",
    "    mid = int(len(text)/2)\n",
    "    compte=0\n",
    "    for index in range(mid):\n",
    "        if text[index] == text[-index-1]:\n",
    "            compte+=1 \n",
    "                \n",
    "    if mid == compte:\n",
    "        return True\n",
    "    else:\n",
    "        return False\n",
    "        "
   ]
  },
  {
   "cell_type": "code",
   "execution_count": 58,
   "id": "6e7381c8",
   "metadata": {},
   "outputs": [
    {
     "data": {
      "text/plain": [
       "True"
      ]
     },
     "execution_count": 58,
     "metadata": {},
     "output_type": "execute_result"
    }
   ],
   "source": [
    "text='.macbcam.'\n",
    "\n",
    "palindrome(text)"
   ]
  },
  {
   "cell_type": "code",
   "execution_count": null,
   "id": "de68bfd0",
   "metadata": {},
   "outputs": [],
   "source": [
    "# 회문 (재귀)\n"
   ]
  }
 ],
 "metadata": {
  "kernelspec": {
   "display_name": "Python 3 (ipykernel)",
   "language": "python",
   "name": "python3"
  },
  "language_info": {
   "codemirror_mode": {
    "name": "ipython",
    "version": 3
   },
   "file_extension": ".py",
   "mimetype": "text/x-python",
   "name": "python",
   "nbconvert_exporter": "python",
   "pygments_lexer": "ipython3",
   "version": "3.9.7"
  }
 },
 "nbformat": 4,
 "nbformat_minor": 5
}

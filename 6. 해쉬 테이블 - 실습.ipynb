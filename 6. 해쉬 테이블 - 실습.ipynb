{
 "cells": [
  {
   "cell_type": "code",
   "execution_count": 2,
   "id": "dc142355",
   "metadata": {},
   "outputs": [
    {
     "data": {
      "text/plain": [
       "[0, 1, 2, 3, 4, 5, 6, 7, 8, 9]"
      ]
     },
     "execution_count": 2,
     "metadata": {},
     "output_type": "execute_result"
    }
   ],
   "source": [
    "hash_table= list([i for i in range(10)])\n",
    "hash_table"
   ]
  },
  {
   "cell_type": "code",
   "execution_count": 3,
   "id": "dcdd4f20",
   "metadata": {},
   "outputs": [],
   "source": [
    "def hash_func(key):\n",
    "    return key % 5"
   ]
  },
  {
   "cell_type": "code",
   "execution_count": 14,
   "id": "ae9c6919",
   "metadata": {},
   "outputs": [
    {
     "name": "stdout",
     "output_type": "stream",
     "text": [
      "65 68 84 68\n"
     ]
    }
   ],
   "source": [
    "data1='Andy'\n",
    "data2='Dave'\n",
    "data3='Trump'\n",
    "data4='Dorai'\n",
    "# ord() : 문자의 ASCII 코드 리턴\n",
    "print(ord(data1[0]), ord(data2[0]), ord(data3[0]), ord(data4[0]))"
   ]
  },
  {
   "cell_type": "code",
   "execution_count": 17,
   "id": "7430e9d3",
   "metadata": {},
   "outputs": [],
   "source": [
    "def storage_data(data,value):\n",
    "    key = ord(data[0])\n",
    "    hash_address=hash_func(key)\n",
    "    hash_table[hash_address] = value"
   ]
  },
  {
   "cell_type": "code",
   "execution_count": 19,
   "id": "c8e7811c",
   "metadata": {},
   "outputs": [],
   "source": [
    "storage_data('ANDY', '0105553333')\n",
    "storage_data('Dave','01022233333')\n",
    "storage_data('Trump','1223322222')"
   ]
  },
  {
   "cell_type": "code",
   "execution_count": 21,
   "id": "358752a2",
   "metadata": {},
   "outputs": [],
   "source": [
    "def get_data(data):\n",
    "    key = ord(data[0])\n",
    "    hash_address=hash_func(key)\n",
    "    \n",
    "    return hash_table[hash_address]"
   ]
  },
  {
   "cell_type": "code",
   "execution_count": 23,
   "id": "54e40266",
   "metadata": {},
   "outputs": [
    {
     "data": {
      "text/plain": [
       "'0105553333'"
      ]
     },
     "execution_count": 23,
     "metadata": {},
     "output_type": "execute_result"
    }
   ],
   "source": [
    "get_data('ANDY')"
   ]
  },
  {
   "cell_type": "code",
   "execution_count": 53,
   "id": "ec284904",
   "metadata": {},
   "outputs": [
    {
     "data": {
      "text/plain": [
       "[0, 0, 0, 0, 0, 0, 0, 0, 0, 0, 0, 0, 0, 0, 0, 0, 0, 0, 0, 0]"
      ]
     },
     "execution_count": 53,
     "metadata": {},
     "output_type": "execute_result"
    }
   ],
   "source": [
    "hash_table = list([0 for i in range(20)])\n",
    "\n",
    "hash_table"
   ]
  },
  {
   "cell_type": "code",
   "execution_count": 3,
   "id": "08940f2c",
   "metadata": {},
   "outputs": [],
   "source": [
    "def get_key(data):\n",
    "    return hash(data)\n",
    "\n",
    "def hash_function(key):\n",
    "    return key % 13\n",
    "\n",
    "def save_data(data, value):\n",
    "    hash_address = hash_function(get_key(data))\n",
    "    hash_table[hash_address] = value\n",
    "\n",
    "def read_data(data):\n",
    "    hash_address = hash_function(get_key(data))\n",
    "    return hash_table[hash_address]"
   ]
  },
  {
   "cell_type": "code",
   "execution_count": 55,
   "id": "da1e5c71",
   "metadata": {},
   "outputs": [
    {
     "data": {
      "text/plain": [
       "['0009998888',\n",
       " 0,\n",
       " 0,\n",
       " 0,\n",
       " 0,\n",
       " 0,\n",
       " 0,\n",
       " 0,\n",
       " 0,\n",
       " 0,\n",
       " 0,\n",
       " 0,\n",
       " '1112223333',\n",
       " 0,\n",
       " 0,\n",
       " 0,\n",
       " 0,\n",
       " 0,\n",
       " 0,\n",
       " 0]"
      ]
     },
     "execution_count": 55,
     "metadata": {},
     "output_type": "execute_result"
    }
   ],
   "source": [
    "save_data('Dave','1112223333')\n",
    "save_data('Andy','0009998888')\n",
    "\n",
    "hash_table"
   ]
  },
  {
   "cell_type": "code",
   "execution_count": 52,
   "id": "921e3f41",
   "metadata": {},
   "outputs": [
    {
     "data": {
      "text/plain": [
       "12"
      ]
     },
     "execution_count": 52,
     "metadata": {},
     "output_type": "execute_result"
    }
   ],
   "source": [
    "hash_function(get_key('Dave'))"
   ]
  },
  {
   "cell_type": "markdown",
   "id": "01687da2",
   "metadata": {},
   "source": [
    "# 충돌 Collision "
   ]
  },
  {
   "cell_type": "markdown",
   "id": "3a12335c",
   "metadata": {},
   "source": [
    "## Chaining (Open Hashing)"
   ]
  },
  {
   "cell_type": "code",
   "execution_count": 25,
   "id": "66ff9236",
   "metadata": {},
   "outputs": [],
   "source": [
    "hash_table = list([0 for i in range(8)])\n",
    "\n",
    "def get_key(data):\n",
    "    return hash(data)\n",
    "\n",
    "def hash_function(key):\n",
    "    return key % 8\n",
    "\n",
    "def save_data(data, value):\n",
    "    index_key=get_key(data)\n",
    "    \n",
    "    hash_address = hash_function(index_key)\n",
    "    if hash_table[hash_address] != 0:\n",
    "        for index in range(len(hash_table[hash_address])):\n",
    "            if hash_table[hash_address][index][0] == index_key:\n",
    "                hash_table[hash_address][index][1] = value\n",
    "                return\n",
    "        hash_table[hash_address].append([index_key, value])  \n",
    "    else:\n",
    "        hash_table[hash_address]=[[index_key, value]]\n",
    "\n",
    "def read_data(data):\n",
    "    index_key = get_key(data)\n",
    "    \n",
    "    hash_address = hash_function(index_key)\n",
    "    if hash_table[hash_address] !=0:\n",
    "        for index in range(len(hash_table[hash_address])):\n",
    "            if hash_table[hash_address][index][0] == index_key:\n",
    "                return hash_table[hash_address][index][1]\n",
    "        return None\n",
    "    else:\n",
    "        return None\n",
    "    return hash_table[hash_address]"
   ]
  },
  {
   "cell_type": "code",
   "execution_count": 26,
   "id": "147599db",
   "metadata": {},
   "outputs": [],
   "source": [
    "save_data('Dd','01012345678')\n",
    "save_data('Data','01033339876')"
   ]
  },
  {
   "cell_type": "code",
   "execution_count": 29,
   "id": "7d3a7b7c",
   "metadata": {},
   "outputs": [
    {
     "data": {
      "text/plain": [
       "'01033339876'"
      ]
     },
     "execution_count": 29,
     "metadata": {},
     "output_type": "execute_result"
    }
   ],
   "source": [
    "read_data('Data')"
   ]
  },
  {
   "cell_type": "code",
   "execution_count": 31,
   "id": "c43cdba2",
   "metadata": {},
   "outputs": [
    {
     "data": {
      "text/plain": [
       "[0,\n",
       " 0,\n",
       " 0,\n",
       " [[-7664582786096676469, '01012345678'], [228332908251836531, '01033339876']],\n",
       " 0,\n",
       " 0,\n",
       " 0,\n",
       " 0]"
      ]
     },
     "execution_count": 31,
     "metadata": {},
     "output_type": "execute_result"
    }
   ],
   "source": [
    "hash_table"
   ]
  },
  {
   "cell_type": "markdown",
   "id": "ef1d5fc6",
   "metadata": {},
   "source": [
    "## Linear Probing (Close Hashing)"
   ]
  },
  {
   "cell_type": "code",
   "execution_count": 33,
   "id": "a140ed81",
   "metadata": {},
   "outputs": [],
   "source": [
    "hash_table = list([0 for i in range(8)])\n",
    "\n",
    "def get_key(data):\n",
    "    return hash(data)\n",
    "\n",
    "def hash_function(key):\n",
    "    return key % 8\n",
    "\n",
    "def save_data(data, value):\n",
    "    index_key=get_key(data) \n",
    "    hash_address = hash_function(index_key)\n",
    "   \n",
    "    if hash_table[hash_address] !=0:\n",
    "        for index in range(hash_address, len(hash_table)):\n",
    "            if hash_table[index] == 0:\n",
    "                hash_table[index] = [index_key, value]   \n",
    "                return\n",
    "            elif hash_table[index][0] == index_key: \n",
    "                hash_table[index][1] == value\n",
    "                return\n",
    "    else:\n",
    "        hash_table[hash_address] = [index_key, value]\n",
    "            \n",
    "    \n",
    "def read_data(data):\n",
    "    index_key = get_key(data)\n",
    "    hash_address = hash_function(index_key)\n",
    "    \n",
    "    if hash_table[hash_address] !=0:\n",
    "        for index in range(hash_address, len(hash_table)):\n",
    "            if hash_table[index] == 0:\n",
    "                return None\n",
    "            elif hash_table[index][0] == index_key:\n",
    "                return hash_table[index][1]\n",
    "    else:\n",
    "        return None"
   ]
  },
  {
   "cell_type": "code",
   "execution_count": 36,
   "id": "4d4f5d19",
   "metadata": {},
   "outputs": [
    {
     "name": "stdout",
     "output_type": "stream",
     "text": [
      "2\n",
      "2\n"
     ]
    }
   ],
   "source": [
    "print(hash('dk')%8)\n",
    "print(hash('daba')%8)"
   ]
  },
  {
   "cell_type": "code",
   "execution_count": 37,
   "id": "f4ff577e",
   "metadata": {},
   "outputs": [],
   "source": [
    "save_data('dk','11111111111')\n",
    "save_data('daba','22222222222')"
   ]
  },
  {
   "cell_type": "code",
   "execution_count": 39,
   "id": "ebf5ced5",
   "metadata": {},
   "outputs": [
    {
     "data": {
      "text/plain": [
       "[0,\n",
       " 0,\n",
       " [1961011546943093026, '11111111111'],\n",
       " [-7085196588289825206, '22222222222'],\n",
       " 0,\n",
       " 0,\n",
       " 0,\n",
       " 0]"
      ]
     },
     "execution_count": 39,
     "metadata": {},
     "output_type": "execute_result"
    }
   ],
   "source": [
    "hash_table"
   ]
  },
  {
   "cell_type": "code",
   "execution_count": 57,
   "id": "ae3513ef",
   "metadata": {},
   "outputs": [
    {
     "data": {
      "text/plain": [
       "'22222222222'"
      ]
     },
     "execution_count": 57,
     "metadata": {},
     "output_type": "execute_result"
    }
   ],
   "source": [
    "read_data('daba')"
   ]
  },
  {
   "cell_type": "markdown",
   "id": "c2f45cc0",
   "metadata": {},
   "source": [
    "# SHA-1 (16진수)"
   ]
  },
  {
   "cell_type": "code",
   "execution_count": 58,
   "id": "ad17ce76",
   "metadata": {},
   "outputs": [
    {
     "name": "stdout",
     "output_type": "stream",
     "text": [
      "a94a8fe5ccb19ba61c4c0873d391e987982fbbd3\n"
     ]
    }
   ],
   "source": [
    "import hashlib\n",
    "\n",
    "data = 'test'.encode()\n",
    "hash_object=hashlib.sha1()\n",
    "hash_object.update(data)\n",
    "hex_dig = hash_object.hexdigest()\n",
    "\n",
    "print(hex_dig)"
   ]
  },
  {
   "cell_type": "markdown",
   "id": "706ee8d4",
   "metadata": {},
   "source": [
    "# SHA-256"
   ]
  },
  {
   "cell_type": "code",
   "execution_count": 60,
   "id": "adc5f569",
   "metadata": {},
   "outputs": [
    {
     "name": "stdout",
     "output_type": "stream",
     "text": [
      "9f86d081884c7d659a2feaa0c55ad015a3bf4f1b2b0b822cd15d6c15b0f00a08\n"
     ]
    }
   ],
   "source": [
    "import hashlib\n",
    "\n",
    "data = 'test'.encode()\n",
    "hash_object=hashlib.sha256()\n",
    "hash_object.update(data)\n",
    "hex_dig = hash_object.hexdigest()\n",
    "\n",
    "print(hex_dig)"
   ]
  },
  {
   "cell_type": "code",
   "execution_count": 67,
   "id": "b7e5031d",
   "metadata": {},
   "outputs": [],
   "source": [
    "import hashlib\n",
    "\n",
    "hash_table = list([0 for i in range(8)])\n",
    "\n",
    "def get_key(data):\n",
    "    hash_object = hashlib.sha256()\n",
    "    hash_object.update(data.encode())\n",
    "    hex_dig = hash_object.hexdigest()\n",
    "    return int(hex_dig, 16)\n",
    "\n",
    "def hash_function(key):\n",
    "    return key % 8\n",
    "\n",
    "def save_data(data, value):\n",
    "    index_key=get_key(data) \n",
    "    hash_address = hash_function(index_key)\n",
    "   \n",
    "    if hash_table[hash_address] !=0:\n",
    "        for index in range(hash_address, len(hash_table)):\n",
    "            if hash_table[index] == 0:\n",
    "                hash_table[index] = [index_key, value]   \n",
    "                return\n",
    "            elif hash_table[index][0] == index_key: \n",
    "                hash_table[index][1] == value\n",
    "                return\n",
    "    else:\n",
    "        hash_table[hash_address] = [index_key, value]\n",
    "            \n",
    "    \n",
    "def read_data(data):\n",
    "    index_key = get_key(data)\n",
    "    hash_address = hash_function(index_key)\n",
    "    \n",
    "    if hash_table[hash_address] !=0:\n",
    "        for index in range(hash_address, len(hash_table)):\n",
    "            if hash_table[index] == 0:\n",
    "                return None\n",
    "            elif hash_table[index][0] == index_key:\n",
    "                return hash_table[index][1]\n",
    "    else:\n",
    "        return None"
   ]
  },
  {
   "cell_type": "code",
   "execution_count": 68,
   "id": "1871181d",
   "metadata": {},
   "outputs": [
    {
     "name": "stdout",
     "output_type": "stream",
     "text": [
      "1\n",
      "5\n",
      "1\n"
     ]
    }
   ],
   "source": [
    "print(get_key('db')%8)\n",
    "print(get_key('dc')%8)\n",
    "print(get_key('dbaa')%8)"
   ]
  },
  {
   "cell_type": "code",
   "execution_count": 69,
   "id": "a8092b75",
   "metadata": {},
   "outputs": [],
   "source": [
    "save_data('db', '01022223333')\n",
    "save_data('dbaa','01099998888')"
   ]
  },
  {
   "cell_type": "code",
   "execution_count": 70,
   "id": "845eee7f",
   "metadata": {},
   "outputs": [
    {
     "data": {
      "text/plain": [
       "[0,\n",
       " [56023447740326973930934189836995694929976025384421001605890631798736143110161,\n",
       "  '01022223333'],\n",
       " [113477542960787062023956767094671572140459717191671499900027801231813822781961,\n",
       "  '01099998888'],\n",
       " 0,\n",
       " 0,\n",
       " 0,\n",
       " 0,\n",
       " 0]"
      ]
     },
     "execution_count": 70,
     "metadata": {},
     "output_type": "execute_result"
    }
   ],
   "source": [
    "hash_table"
   ]
  }
 ],
 "metadata": {
  "kernelspec": {
   "display_name": "Python 3 (ipykernel)",
   "language": "python",
   "name": "python3"
  },
  "language_info": {
   "codemirror_mode": {
    "name": "ipython",
    "version": 3
   },
   "file_extension": ".py",
   "mimetype": "text/x-python",
   "name": "python",
   "nbconvert_exporter": "python",
   "pygments_lexer": "ipython3",
   "version": "3.9.7"
  }
 },
 "nbformat": 4,
 "nbformat_minor": 5
}
